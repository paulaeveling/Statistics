{
 "cells": [
  {
   "cell_type": "markdown",
   "id": "b3e0b9b9",
   "metadata": {},
   "source": [
    "## One-Way ANOVA Test for Social Media Use and Sleeping Patterns"
   ]
  },
  {
   "cell_type": "markdown",
   "id": "83b5e549",
   "metadata": {},
   "source": [
    "## Contextualization\n",
    "\n",
    "Over the past decade, the world has experienced an explosion in the use of social media platforms, especially on mobile devices. Mobiles emit mostly blue light, and these wavelengths are particularly good at keeping us productive and focused. However, according to Newsom, Rob (2020), social media and sleep don’t mix well. The excessive use of social media can reduce sleep quality and increase the risk of a multitude of sleep issues.\n",
    "\n",
    "## Objectives\n",
    "The main objective of this study is to analyse if the intensity of social media usage influences the number of hours of sleep using the One-Way Analysis of Variance (One-Way ANOVA) statistical method in Python.\n",
    "\n",
    "## Limitations\n",
    "It is important to mention that this is not a scientific experiment carried out by social media or sleep specialists, therefore one cannot assume that one variable causes the other. As wisely stated by Walton, Alice G. (2019), it could be the other way around: individuals who were already poor sleepers are on social media more as a result - or it could be another variable entirely that causes both the social media use and the sleep issues.\n",
    "\n",
    "\n",
    "----"
   ]
  },
  {
   "cell_type": "markdown",
   "id": "8790c7df",
   "metadata": {},
   "source": [
    "## Importing the Dataset and Libraries"
   ]
  },
  {
   "cell_type": "code",
   "execution_count": 2,
   "id": "2159dd70",
   "metadata": {},
   "outputs": [],
   "source": [
    "# importing libraries that will be used in this project\n",
    "import pandas as pd\n",
    "import seaborn as sns\n",
    "import numpy as np\n",
    "import matplotlib.pyplot as plt\n",
    "import scipy.stats as stats\n",
    "from distfit import distfit\n",
    "from bioinfokit.analys import stat \n",
    "import statsmodels.api as sm\n",
    "from statsmodels.formula.api import ols\n",
    "from scipy.stats import bartlett\n",
    "import warnings\n",
    "\n",
    "%matplotlib inline \n",
    "warnings.filterwarnings(\"ignore\")"
   ]
  },
  {
   "cell_type": "code",
   "execution_count": 3,
   "id": "8fa7a2a8",
   "metadata": {},
   "outputs": [],
   "source": [
    "# seaborn charts decoration\n",
    "sns.set(rc={'figure.figsize':(10,5)}, font_scale=1.2)\n",
    "sns.set_style({'axes.facecolor':'white', 'grid.color': 'white'})"
   ]
  },
  {
   "cell_type": "markdown",
   "id": "40490db4",
   "metadata": {},
   "source": [
    "## Data Visualization"
   ]
  },
  {
   "cell_type": "code",
   "execution_count": 4,
   "id": "0763619a",
   "metadata": {},
   "outputs": [],
   "source": [
    "# importing dataset\n",
    "df = pd.read_csv(\"Series24.csv\")"
   ]
  },
  {
   "cell_type": "code",
   "execution_count": 5,
   "id": "31283bcd",
   "metadata": {},
   "outputs": [
    {
     "data": {
      "text/html": [
       "<div>\n",
       "<style scoped>\n",
       "    .dataframe tbody tr th:only-of-type {\n",
       "        vertical-align: middle;\n",
       "    }\n",
       "\n",
       "    .dataframe tbody tr th {\n",
       "        vertical-align: top;\n",
       "    }\n",
       "\n",
       "    .dataframe thead th {\n",
       "        text-align: right;\n",
       "    }\n",
       "</style>\n",
       "<table border=\"1\" class=\"dataframe\">\n",
       "  <thead>\n",
       "    <tr style=\"text-align: right;\">\n",
       "      <th></th>\n",
       "      <th>Low Use</th>\n",
       "      <th>Moderate Use</th>\n",
       "      <th>High Use</th>\n",
       "      <th>Very High Use</th>\n",
       "    </tr>\n",
       "  </thead>\n",
       "  <tbody>\n",
       "    <tr>\n",
       "      <th>0</th>\n",
       "      <td>8.983252</td>\n",
       "      <td>8.483252</td>\n",
       "      <td>7.676349</td>\n",
       "      <td>6.976349</td>\n",
       "    </tr>\n",
       "    <tr>\n",
       "      <th>1</th>\n",
       "      <td>8.420320</td>\n",
       "      <td>7.920320</td>\n",
       "      <td>7.121458</td>\n",
       "      <td>6.421458</td>\n",
       "    </tr>\n",
       "    <tr>\n",
       "      <th>2</th>\n",
       "      <td>8.962186</td>\n",
       "      <td>8.462186</td>\n",
       "      <td>7.655583</td>\n",
       "      <td>6.955583</td>\n",
       "    </tr>\n",
       "    <tr>\n",
       "      <th>3</th>\n",
       "      <td>7.850318</td>\n",
       "      <td>7.350318</td>\n",
       "      <td>6.559599</td>\n",
       "      <td>5.859599</td>\n",
       "    </tr>\n",
       "    <tr>\n",
       "      <th>4</th>\n",
       "      <td>9.372347</td>\n",
       "      <td>8.872347</td>\n",
       "      <td>8.059885</td>\n",
       "      <td>7.359885</td>\n",
       "    </tr>\n",
       "  </tbody>\n",
       "</table>\n",
       "</div>"
      ],
      "text/plain": [
       "    Low Use  Moderate Use  High Use  Very High Use\n",
       "0  8.983252      8.483252  7.676349       6.976349\n",
       "1  8.420320      7.920320  7.121458       6.421458\n",
       "2  8.962186      8.462186  7.655583       6.955583\n",
       "3  7.850318      7.350318  6.559599       5.859599\n",
       "4  9.372347      8.872347  8.059885       7.359885"
      ]
     },
     "execution_count": 5,
     "metadata": {},
     "output_type": "execute_result"
    }
   ],
   "source": [
    "# visualizing the first 5 rows of the dataset\n",
    "df.head()"
   ]
  },
  {
   "cell_type": "markdown",
   "id": "bec41bfc",
   "metadata": {},
   "source": [
    "This table provides an initial idea of the dataset used in this project."
   ]
  },
  {
   "cell_type": "code",
   "execution_count": 6,
   "id": "0c51138c",
   "metadata": {},
   "outputs": [
    {
     "name": "stdout",
     "output_type": "stream",
     "text": [
      "<class 'pandas.core.frame.DataFrame'>\n",
      "RangeIndex: 20 entries, 0 to 19\n",
      "Data columns (total 4 columns):\n",
      " #   Column         Non-Null Count  Dtype  \n",
      "---  ------         --------------  -----  \n",
      " 0   Low Use        20 non-null     float64\n",
      " 1   Moderate Use   20 non-null     float64\n",
      " 2   High Use       20 non-null     float64\n",
      " 3   Very High Use  20 non-null     float64\n",
      "dtypes: float64(4)\n",
      "memory usage: 768.0 bytes\n"
     ]
    }
   ],
   "source": [
    "# display a concise summary of the dataset\n",
    "df.info()"
   ]
  },
  {
   "cell_type": "markdown",
   "id": "8d1a9b59",
   "metadata": {},
   "source": [
    "This table gives more information related to the variables and their formats."
   ]
  },
  {
   "cell_type": "markdown",
   "id": "0b2137bf",
   "metadata": {},
   "source": [
    "## Exploratory Data Analysis"
   ]
  },
  {
   "cell_type": "code",
   "execution_count": 7,
   "id": "34a2bef8",
   "metadata": {},
   "outputs": [
    {
     "data": {
      "text/html": [
       "<div>\n",
       "<style scoped>\n",
       "    .dataframe tbody tr th:only-of-type {\n",
       "        vertical-align: middle;\n",
       "    }\n",
       "\n",
       "    .dataframe tbody tr th {\n",
       "        vertical-align: top;\n",
       "    }\n",
       "\n",
       "    .dataframe thead th {\n",
       "        text-align: right;\n",
       "    }\n",
       "</style>\n",
       "<table border=\"1\" class=\"dataframe\">\n",
       "  <thead>\n",
       "    <tr style=\"text-align: right;\">\n",
       "      <th></th>\n",
       "      <th>count</th>\n",
       "      <th>mean</th>\n",
       "      <th>std</th>\n",
       "      <th>min</th>\n",
       "      <th>25%</th>\n",
       "      <th>50%</th>\n",
       "      <th>75%</th>\n",
       "      <th>max</th>\n",
       "    </tr>\n",
       "  </thead>\n",
       "  <tbody>\n",
       "    <tr>\n",
       "      <th>Low Use</th>\n",
       "      <td>20.0</td>\n",
       "      <td>8.723411</td>\n",
       "      <td>0.486282</td>\n",
       "      <td>7.850318</td>\n",
       "      <td>8.447785</td>\n",
       "      <td>8.599661</td>\n",
       "      <td>8.967452</td>\n",
       "      <td>9.968084</td>\n",
       "    </tr>\n",
       "    <tr>\n",
       "      <th>Moderate Use</th>\n",
       "      <td>20.0</td>\n",
       "      <td>8.223411</td>\n",
       "      <td>0.486282</td>\n",
       "      <td>7.350318</td>\n",
       "      <td>7.947785</td>\n",
       "      <td>8.099661</td>\n",
       "      <td>8.467452</td>\n",
       "      <td>9.468084</td>\n",
       "    </tr>\n",
       "    <tr>\n",
       "      <th>High Use</th>\n",
       "      <td>20.0</td>\n",
       "      <td>7.420219</td>\n",
       "      <td>0.479335</td>\n",
       "      <td>6.559599</td>\n",
       "      <td>7.148531</td>\n",
       "      <td>7.298237</td>\n",
       "      <td>7.660774</td>\n",
       "      <td>8.647112</td>\n",
       "    </tr>\n",
       "    <tr>\n",
       "      <th>Very High Use</th>\n",
       "      <td>20.0</td>\n",
       "      <td>6.720219</td>\n",
       "      <td>0.479335</td>\n",
       "      <td>5.859599</td>\n",
       "      <td>6.448531</td>\n",
       "      <td>6.598237</td>\n",
       "      <td>6.960774</td>\n",
       "      <td>7.947112</td>\n",
       "    </tr>\n",
       "  </tbody>\n",
       "</table>\n",
       "</div>"
      ],
      "text/plain": [
       "               count      mean       std       min       25%       50%  \\\n",
       "Low Use         20.0  8.723411  0.486282  7.850318  8.447785  8.599661   \n",
       "Moderate Use    20.0  8.223411  0.486282  7.350318  7.947785  8.099661   \n",
       "High Use        20.0  7.420219  0.479335  6.559599  7.148531  7.298237   \n",
       "Very High Use   20.0  6.720219  0.479335  5.859599  6.448531  6.598237   \n",
       "\n",
       "                    75%       max  \n",
       "Low Use        8.967452  9.968084  \n",
       "Moderate Use   8.467452  9.468084  \n",
       "High Use       7.660774  8.647112  \n",
       "Very High Use  6.960774  7.947112  "
      ]
     },
     "execution_count": 7,
     "metadata": {},
     "output_type": "execute_result"
    }
   ],
   "source": [
    "# statistical description of the dataset\n",
    "df.describe(include='all').T"
   ]
  },
  {
   "cell_type": "markdown",
   "id": "b3ff9557",
   "metadata": {},
   "source": [
    "Considering the statistical description of the dataset presented on the table above, it can be observed that the number of hours of sleep decreases as the usage of social media increases. To exemplify, a person who characterises their social media usage as low, sleeps on average 8.723 hours per night, while a person who states to have a very high usage of social media sleeps only 6.720 hours on average. This behaviour can be observed throughout the standard quartiles (25%, 50%, 75%) and minimum and maximum observed values, where people who spend more time on social media tend to sleep fewer hours."
   ]
  },
  {
   "cell_type": "code",
   "execution_count": 8,
   "id": "1ac97b0a",
   "metadata": {},
   "outputs": [
    {
     "name": "stdout",
     "output_type": "stream",
     "text": [
      "    index       variable     value\n",
      "0       0        Low Use  8.983252\n",
      "1       1        Low Use  8.420320\n",
      "2       2        Low Use  8.962186\n",
      "3       3        Low Use  7.850318\n",
      "4       4        Low Use  9.372347\n",
      "..    ...            ...       ...\n",
      "75     15  Very High Use  6.072463\n",
      "76     16  Very High Use  6.280276\n",
      "77     17  Very High Use  6.664693\n",
      "78     18  Very High Use  7.947112\n",
      "79     19  Very High Use  6.457555\n",
      "\n",
      "[80 rows x 3 columns]\n"
     ]
    },
    {
     "data": {
      "text/plain": [
       "Text(0.5, 1.0, 'Average Hours of Sleep by Social Media Usage')"
      ]
     },
     "execution_count": 8,
     "metadata": {},
     "output_type": "execute_result"
    },
    {
     "data": {
      "image/png": "[encoded data removed]",
      "text/plain": [
       "<Figure size 1296x576 with 1 Axes>"
      ]
     },
     "metadata": {},
     "output_type": "display_data"
    }
   ],
   "source": [
    "# reshape the d dataframe suitable for statsmodels package \n",
    "df_melt = pd.melt(df.reset_index(), id_vars=['index'], value_vars=['Low Use', 'Moderate Use', 'High Use', \n",
    "                                                                   'Very High Use'])\n",
    "# Make the plot\n",
    "fig, ax = plt.subplots(figsize=(18,8))\n",
    "sns.barplot(x=df_melt['variable'],y=df_melt['value'],data = df_melt,color='#737373')\n",
    "plt.title('Average Hours of Sleep by Social Media Usage')"
   ]
  },
  {
   "cell_type": "markdown",
   "id": "2822ab23",
   "metadata": {},
   "source": [
    "The barplot represented on figure above, provides an easy way to visualise the results observed on the statistical description table where the lowest the use of social media platforms is, the longest the individual tends to sleep. On the other hand, individuals who characterise their social media use as very high, tend to sleep less."
   ]
  },
  {
   "cell_type": "code",
   "execution_count": 10,
   "id": "643e3b44",
   "metadata": {},
   "outputs": [
    {
     "data": {
      "image/png": "[encoded data removed]",
      "text/plain": [
       "<Figure size 1296x576 with 1 Axes>"
      ]
     },
     "metadata": {},
     "output_type": "display_data"
    }
   ],
   "source": [
    "# generate a boxplot to see the data distribution by usage. Using boxplot, we can \n",
    "# easily detect the differences between different social media usage\n",
    "fig, ax = plt.subplots(figsize=(18,8))\n",
    "ax = sns.boxplot(data=df, color='#737373')\n",
    "ax = sns.swarmplot(data=df, color='red')\n",
    "plt.show()"
   ]
  },
  {
   "cell_type": "markdown",
   "id": "8d1d08cc",
   "metadata": {},
   "source": [
    "The boxplot above allows to easily detect the differences between social media usages and identify potential outliers. The red points represent each individual. We can observe that, in each group, most of the observations are concentrated in the lower and upper quartiles (Q1 and Q3), and that one outlier is present in each group. Since these outliers are not severe, this study will be carried out taking them into account. \n"
   ]
  },
  {
   "cell_type": "code",
   "execution_count": 9,
   "id": "13783c75",
   "metadata": {
    "scrolled": false
   },
   "outputs": [
    {
     "data": {
      "image/png": "[encoded data removed]",
      "text/plain": [
       "<Figure size 1296x576 with 4 Axes>"
      ]
     },
     "metadata": {},
     "output_type": "display_data"
    }
   ],
   "source": [
    "# HISTOGRAM (ALL NUMERIC VARIABLES)\n",
    "\n",
    "# Identify all numeric variables in the dataset\n",
    "numerical=df.select_dtypes(include=[np.number]).columns.tolist()\n",
    "\n",
    "# Draw\n",
    "fig, ax = plt.subplots(2, 2, figsize=(18,8))\n",
    "for var, subplot in zip(df[numerical], ax.flatten()):\n",
    "    g = sns.histplot(data=df,x=var,ax=subplot,kde=True,color='#474747')"
   ]
  },
  {
   "cell_type": "markdown",
   "id": "207c34a8",
   "metadata": {},
   "source": [
    "The histograms presented on figure 4 show that the distribution of each group is approximately normal, however, a visual analysis is not enough to determine the symmetry of the distribution and formal tests must be applied.\n"
   ]
  },
  {
   "cell_type": "markdown",
   "id": "2f82ed5e",
   "metadata": {},
   "source": [
    "## Distribution Fitting Test\n",
    "\n",
    "The Shapiro-Wilk test was applied to test the normality of the distribution using the library scipy.stats (Scipy Stats) and the results obtained are shown below on table 2."
   ]
  },
  {
   "cell_type": "code",
   "execution_count": 11,
   "id": "85ba3478",
   "metadata": {},
   "outputs": [
    {
     "name": "stdout",
     "output_type": "stream",
     "text": [
      "Result:  ShapiroResult(statistic=0.9829710721969604, pvalue=0.3662208616733551)\n"
     ]
    }
   ],
   "source": [
    "# Shapiro-Wilk test for variables altogether\n",
    "shapiro_test = stats.shapiro(df)\n",
    "print('Result: ', shapiro_test)"
   ]
  },
  {
   "cell_type": "code",
   "execution_count": 12,
   "id": "a6135a15",
   "metadata": {},
   "outputs": [
    {
     "name": "stdout",
     "output_type": "stream",
     "text": [
      "Low Use :  ShapiroResult(statistic=0.9566276669502258, pvalue=0.4788699448108673)\n",
      "Moderate Use :  ShapiroResult(statistic=0.9566276669502258, pvalue=0.47887012362480164)\n",
      "High Use :  ShapiroResult(statistic=0.9566276669502258, pvalue=0.47887012362480164)\n",
      "Very High Use :  ShapiroResult(statistic=0.9566276669502258, pvalue=0.47887012362480164)\n"
     ]
    }
   ],
   "source": [
    "# Shapiro-Wilk test for each variable individually\n",
    "def shapiro_test(variable):\n",
    "    shapiro_test = stats.shapiro(df[variable])\n",
    "    print(variable, ': ', shapiro_test)\n",
    "\n",
    "shapiro_test('Low Use')\n",
    "shapiro_test('Moderate Use')\n",
    "shapiro_test('High Use')\n",
    "shapiro_test('Very High Use')"
   ]
  },
  {
   "cell_type": "markdown",
   "id": "febfa161",
   "metadata": {},
   "source": [
    "Result: The Shapiro-Wilk test p-value is greater than α = 0.05, therefore failing to reject H0.<br>\n",
    "Conclusion: There is enough evidence to conclude that the data is normally distributed at a 5% significance level."
   ]
  },
  {
   "cell_type": "markdown",
   "id": "8ccae83d",
   "metadata": {},
   "source": [
    "## Tests for Equality of Variances (Homoscedasticity)\n",
    "\n",
    "The Levene’s test was applied to test the equality of the variances (figure 6) through the bioinfokit library in Python.\n"
   ]
  },
  {
   "cell_type": "code",
   "execution_count": null,
   "id": "cb4003aa",
   "metadata": {},
   "outputs": [],
   "source": [
    "# re-definining some dataset properties before applying the test\n",
    "df_melt.columns = ['index', 'usage', 'count']"
   ]
  },
  {
   "cell_type": "code",
   "execution_count": 13,
   "id": "372bc5c4",
   "metadata": {},
   "outputs": [
    {
     "data": {
      "text/html": [
       "<div>\n",
       "<style scoped>\n",
       "    .dataframe tbody tr th:only-of-type {\n",
       "        vertical-align: middle;\n",
       "    }\n",
       "\n",
       "    .dataframe tbody tr th {\n",
       "        vertical-align: top;\n",
       "    }\n",
       "\n",
       "    .dataframe thead th {\n",
       "        text-align: right;\n",
       "    }\n",
       "</style>\n",
       "<table border=\"1\" class=\"dataframe\">\n",
       "  <thead>\n",
       "    <tr style=\"text-align: right;\">\n",
       "      <th></th>\n",
       "      <th>Parameter</th>\n",
       "      <th>Value</th>\n",
       "    </tr>\n",
       "  </thead>\n",
       "  <tbody>\n",
       "    <tr>\n",
       "      <th>0</th>\n",
       "      <td>Test statistics (W)</td>\n",
       "      <td>0.0020</td>\n",
       "    </tr>\n",
       "    <tr>\n",
       "      <th>1</th>\n",
       "      <td>Degrees of freedom (Df)</td>\n",
       "      <td>3.0000</td>\n",
       "    </tr>\n",
       "    <tr>\n",
       "      <th>2</th>\n",
       "      <td>p value</td>\n",
       "      <td>0.9999</td>\n",
       "    </tr>\n",
       "  </tbody>\n",
       "</table>\n",
       "</div>"
      ],
      "text/plain": [
       "                 Parameter   Value\n",
       "0      Test statistics (W)  0.0020\n",
       "1  Degrees of freedom (Df)  3.0000\n",
       "2                  p value  0.9999"
      ]
     },
     "execution_count": 13,
     "metadata": {},
     "output_type": "execute_result"
    }
   ],
   "source": [
    "# initializing the test\n",
    "res = stat()\n",
    "res.levene(df=df_melt, res_var='count', xfac_var='usage')\n",
    "res.levene_summary"
   ]
  },
  {
   "cell_type": "markdown",
   "id": "2d34edfe",
   "metadata": {},
   "source": [
    "Result: The Levene’s test p-value is greater than α = 0.05, therefore failing to reject H0.<br>\n",
    "Conclusion: There is strong evidence that the variances are equal across all samples at 5% confidence level."
   ]
  },
  {
   "cell_type": "markdown",
   "id": "0c68a672",
   "metadata": {},
   "source": [
    "## Analysis of Variance (ANOVA)\n",
    "\n",
    "The Analysis of Variance (ANOVA) technique was applied using the bioinfokit library in Python."
   ]
  },
  {
   "cell_type": "code",
   "execution_count": 15,
   "id": "caeb3a15",
   "metadata": {},
   "outputs": [
    {
     "data": {
      "text/html": [
       "<div>\n",
       "<style scoped>\n",
       "    .dataframe tbody tr th:only-of-type {\n",
       "        vertical-align: middle;\n",
       "    }\n",
       "\n",
       "    .dataframe tbody tr th {\n",
       "        vertical-align: top;\n",
       "    }\n",
       "\n",
       "    .dataframe thead th {\n",
       "        text-align: right;\n",
       "    }\n",
       "</style>\n",
       "<table border=\"1\" class=\"dataframe\">\n",
       "  <thead>\n",
       "    <tr style=\"text-align: right;\">\n",
       "      <th></th>\n",
       "      <th>df</th>\n",
       "      <th>sum_sq</th>\n",
       "      <th>mean_sq</th>\n",
       "      <th>F</th>\n",
       "      <th>PR(&gt;F)</th>\n",
       "    </tr>\n",
       "  </thead>\n",
       "  <tbody>\n",
       "    <tr>\n",
       "      <th>C(usage)</th>\n",
       "      <td>3.0</td>\n",
       "      <td>46.778932</td>\n",
       "      <td>15.592977</td>\n",
       "      <td>66.889431</td>\n",
       "      <td>2.853701e-21</td>\n",
       "    </tr>\n",
       "    <tr>\n",
       "      <th>Residual</th>\n",
       "      <td>76.0</td>\n",
       "      <td>17.716794</td>\n",
       "      <td>0.233116</td>\n",
       "      <td>NaN</td>\n",
       "      <td>NaN</td>\n",
       "    </tr>\n",
       "  </tbody>\n",
       "</table>\n",
       "</div>"
      ],
      "text/plain": [
       "            df     sum_sq    mean_sq          F        PR(>F)\n",
       "C(usage)   3.0  46.778932  15.592977  66.889431  2.853701e-21\n",
       "Residual  76.0  17.716794   0.233116        NaN           NaN"
      ]
     },
     "execution_count": 15,
     "metadata": {},
     "output_type": "execute_result"
    }
   ],
   "source": [
    "# ANOVA table using bioinfokit v1.0.3 or later (it uses wrapper script for anova_lm)\n",
    "res = stat()\n",
    "res.anova_stat(df=df_melt, res_var='count', anova_model='count ~ C(usage)')\n",
    "res.anova_summary"
   ]
  },
  {
   "cell_type": "markdown",
   "id": "6e2b0227",
   "metadata": {},
   "source": [
    "Result: The ANOVA p-value is lower than α = 0.05, therefore H0 is rejected.<br>\n",
    "Conclusion: It can be concluded that there are significant differences among the usage of social media and the average sleep time."
   ]
  },
  {
   "cell_type": "markdown",
   "id": "ddc20fb6",
   "metadata": {},
   "source": [
    "##  Multiple comparison tests\n",
    "\n",
    "The Tukey-Kramer test was applied (figure 8) using the bioinfokit library in Python (Bedre, Renesh. 2020)."
   ]
  },
  {
   "cell_type": "code",
   "execution_count": 16,
   "id": "18d2e93f",
   "metadata": {},
   "outputs": [
    {
     "data": {
      "text/html": [
       "<div>\n",
       "<style scoped>\n",
       "    .dataframe tbody tr th:only-of-type {\n",
       "        vertical-align: middle;\n",
       "    }\n",
       "\n",
       "    .dataframe tbody tr th {\n",
       "        vertical-align: top;\n",
       "    }\n",
       "\n",
       "    .dataframe thead th {\n",
       "        text-align: right;\n",
       "    }\n",
       "</style>\n",
       "<table border=\"1\" class=\"dataframe\">\n",
       "  <thead>\n",
       "    <tr style=\"text-align: right;\">\n",
       "      <th></th>\n",
       "      <th>group1</th>\n",
       "      <th>group2</th>\n",
       "      <th>Diff</th>\n",
       "      <th>Lower</th>\n",
       "      <th>Upper</th>\n",
       "      <th>q-value</th>\n",
       "      <th>p-value</th>\n",
       "    </tr>\n",
       "  </thead>\n",
       "  <tbody>\n",
       "    <tr>\n",
       "      <th>0</th>\n",
       "      <td>Low Use</td>\n",
       "      <td>Moderate Use</td>\n",
       "      <td>0.500000</td>\n",
       "      <td>0.098924</td>\n",
       "      <td>0.901076</td>\n",
       "      <td>4.631261</td>\n",
       "      <td>0.008491</td>\n",
       "    </tr>\n",
       "    <tr>\n",
       "      <th>1</th>\n",
       "      <td>Low Use</td>\n",
       "      <td>High Use</td>\n",
       "      <td>1.303192</td>\n",
       "      <td>0.902115</td>\n",
       "      <td>1.704268</td>\n",
       "      <td>12.070840</td>\n",
       "      <td>0.001000</td>\n",
       "    </tr>\n",
       "    <tr>\n",
       "      <th>2</th>\n",
       "      <td>Low Use</td>\n",
       "      <td>Very High Use</td>\n",
       "      <td>2.003192</td>\n",
       "      <td>1.602115</td>\n",
       "      <td>2.404268</td>\n",
       "      <td>18.554605</td>\n",
       "      <td>0.001000</td>\n",
       "    </tr>\n",
       "    <tr>\n",
       "      <th>3</th>\n",
       "      <td>Moderate Use</td>\n",
       "      <td>High Use</td>\n",
       "      <td>0.803192</td>\n",
       "      <td>0.402115</td>\n",
       "      <td>1.204268</td>\n",
       "      <td>7.439579</td>\n",
       "      <td>0.001000</td>\n",
       "    </tr>\n",
       "    <tr>\n",
       "      <th>4</th>\n",
       "      <td>Moderate Use</td>\n",
       "      <td>Very High Use</td>\n",
       "      <td>1.503192</td>\n",
       "      <td>1.102115</td>\n",
       "      <td>1.904268</td>\n",
       "      <td>13.923344</td>\n",
       "      <td>0.001000</td>\n",
       "    </tr>\n",
       "    <tr>\n",
       "      <th>5</th>\n",
       "      <td>High Use</td>\n",
       "      <td>Very High Use</td>\n",
       "      <td>0.700000</td>\n",
       "      <td>0.298924</td>\n",
       "      <td>1.101076</td>\n",
       "      <td>6.483765</td>\n",
       "      <td>0.001000</td>\n",
       "    </tr>\n",
       "  </tbody>\n",
       "</table>\n",
       "</div>"
      ],
      "text/plain": [
       "         group1         group2      Diff     Lower     Upper    q-value  \\\n",
       "0       Low Use   Moderate Use  0.500000  0.098924  0.901076   4.631261   \n",
       "1       Low Use       High Use  1.303192  0.902115  1.704268  12.070840   \n",
       "2       Low Use  Very High Use  2.003192  1.602115  2.404268  18.554605   \n",
       "3  Moderate Use       High Use  0.803192  0.402115  1.204268   7.439579   \n",
       "4  Moderate Use  Very High Use  1.503192  1.102115  1.904268  13.923344   \n",
       "5      High Use  Very High Use  0.700000  0.298924  1.101076   6.483765   \n",
       "\n",
       "    p-value  \n",
       "0  0.008491  \n",
       "1  0.001000  \n",
       "2  0.001000  \n",
       "3  0.001000  \n",
       "4  0.001000  \n",
       "5  0.001000  "
      ]
     },
     "execution_count": 16,
     "metadata": {},
     "output_type": "execute_result"
    }
   ],
   "source": [
    "# we will use bioinfokit (v1.0.3 or later) for performing tukey HSD test\n",
    "# check documentation here https://github.com/reneshbedre/bioinfokit\n",
    "\n",
    "# perform multiple pairwise comparison (Tukey's HSD)\n",
    "# unequal sample size data, tukey_hsd uses Tukey-Kramer test\n",
    "res = stat()\n",
    "res.tukey_hsd(df=df_melt, res_var='count', xfac_var='usage', anova_model='count ~ C(usage)')\n",
    "res.tukey_summary"
   ]
  },
  {
   "cell_type": "markdown",
   "id": "8e6c84b9",
   "metadata": {},
   "source": [
    "Result: The Tukey-Kramer test p-values are lower than α = 0.05 for all pairwise comparisons, therefore H0 is rejected.<br>\n",
    "Conclusion: It can be concluded that there are statistical significant differences between the average hours of sleep of each group."
   ]
  },
  {
   "cell_type": "markdown",
   "id": "99ce3cb1",
   "metadata": {},
   "source": [
    "## Conclusion"
   ]
  },
  {
   "cell_type": "markdown",
   "id": "99515147",
   "metadata": {},
   "source": [
    "According to some specialists, the intensity of social media usage can affect the quality of sleep of an individual. In order to test this statement, a group of eighty individuals have characterised their social media usage and average hours of sleep. A dataset with the results was provided for analysis.\n",
    "Considering the Analysis of Variance (One-Way ANOVA) results, it can be concluded that there is evidence that the intensity of social media usage does affect the average hours of sleep of an individual.\n",
    "\n"
   ]
  },
  {
   "cell_type": "code",
   "execution_count": null,
   "id": "9d06f697",
   "metadata": {},
   "outputs": [],
   "source": []
  }
 ],
 "metadata": {
  "kernelspec": {
   "display_name": "Python 3",
   "language": "python",
   "name": "python3"
  },
  "language_info": {
   "codemirror_mode": {
    "name": "ipython",
    "version": 3
   },
   "file_extension": ".py",
   "mimetype": "text/x-python",
   "name": "python",
   "nbconvert_exporter": "python",
   "pygments_lexer": "ipython3",
   "version": "3.8.8"
  }
 },
 "nbformat": 4,
 "nbformat_minor": 5
}
